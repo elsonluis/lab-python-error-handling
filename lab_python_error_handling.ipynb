{
  "cells": [
    {
      "cell_type": "markdown",
      "id": "25d7736c-ba17-4aff-b6bb-66eba20fbf4e",
      "metadata": {
        "id": "25d7736c-ba17-4aff-b6bb-66eba20fbf4e"
      },
      "source": [
        "# Lab | Error Handling"
      ]
    },
    {
      "cell_type": "markdown",
      "id": "bc99b386-7508-47a0-bcdb-d969deaf6c8b",
      "metadata": {
        "id": "bc99b386-7508-47a0-bcdb-d969deaf6c8b"
      },
      "source": [
        "## Exercise: Error Handling for Managing Customer Orders\n",
        "\n",
        "The implementation of your code for managing customer orders assumes that the user will always enter a valid input.\n",
        "\n",
        "For example, we could modify the `initialize_inventory` function to include error handling.\n",
        "   - If the user enters an invalid quantity (e.g., a negative value or a non-numeric value), display an error message and ask them to re-enter the quantity for that product.\n",
        "   - Use a try-except block to handle the error and continue prompting the user until a valid quantity is entered.\n",
        "\n",
        "```python\n",
        "# Step 1: Define the function for initializing the inventory with error handling\n",
        "def initialize_inventory(products):\n",
        "    inventory = {}\n",
        "    for product in products:\n",
        "        valid_quantity = False\n",
        "        while not valid_quantity:\n",
        "            try:\n",
        "                quantity = int(input(f\"Enter the quantity of {product}s available: \"))\n",
        "                if quantity < 0:\n",
        "                    raise ValueError(\"Invalid quantity! Please enter a non-negative value.\")\n",
        "                valid_quantity = True\n",
        "            except ValueError as error:\n",
        "                print(f\"Error: {error}\")\n",
        "        inventory[product] = quantity\n",
        "    return inventory\n",
        "\n",
        "# Or, in another way:\n",
        "\n",
        "def initialize_inventory(products):\n",
        "    inventory = {}\n",
        "    for product in products:\n",
        "        valid_input = False\n",
        "        while not valid_input:\n",
        "            try:\n",
        "                quantity = int(input(f\"Enter the quantity of {product}s available: \"))\n",
        "                if quantity >= 0:\n",
        "                    inventory[product] = quantity\n",
        "                    valid_input = True\n",
        "                else:\n",
        "                    print(\"Quantity cannot be negative. Please enter a valid quantity.\")\n",
        "            except ValueError:\n",
        "                print(\"Invalid input. Please enter a valid quantity.\")\n",
        "    return inventory\n",
        "```\n",
        "\n",
        "Let's enhance your code by implementing error handling to handle invalid inputs.\n",
        "\n",
        "Follow the steps below to complete the exercise:\n",
        "\n",
        "2. Modify the `calculate_total_price` function to include error handling.\n",
        "   - If the user enters an invalid price (e.g., a negative value or a non-numeric value), display an error message and ask them to re-enter the price for that product.\n",
        "   - Use a try-except block to handle the error and continue prompting the user until a valid price is entered.\n",
        "\n",
        "3. Modify the `get_customer_orders` function to include error handling.\n",
        "   - If the user enters an invalid number of orders (e.g., a negative value or a non-numeric value), display an error message and ask them to re-enter the number of orders.\n",
        "   - If the user enters an invalid product name (e.g., a product name that is not in the inventory), or that doesn't have stock available, display an error message and ask them to re-enter the product name. *Hint: you will need to pass inventory as a parameter*\n",
        "   - Use a try-except block to handle the error and continue prompting the user until a valid product name is entered.\n",
        "\n",
        "4. Test your code by running the program and deliberately entering invalid quantities and product names. Make sure the error handling mechanism works as expected.\n"
      ]
    },
    {
      "cell_type": "code",
      "source": [
        "products = [\"t-shirt\", \"mug\", \"hat\", \"book\", \"keychain\"]\n",
        "inventory = {}\n",
        "\n",
        "\n",
        "def initialize_inventory (products):\n",
        "  for product in products:\n",
        "    quantity = int(input(f'Please input the number of products {product}: '))\n",
        "    inventory[product] = quantity\n",
        "  return inventory\n",
        "\n",
        "inventory = initialize_inventory(products)\n",
        "\n",
        "print(inventory)"
      ],
      "metadata": {
        "colab": {
          "base_uri": "https://localhost:8080/"
        },
        "id": "vKiUIpXS6zTA",
        "outputId": "1b649dc6-ac76-46aa-f6d9-a70563c3c78c"
      },
      "id": "vKiUIpXS6zTA",
      "execution_count": 26,
      "outputs": [
        {
          "output_type": "stream",
          "name": "stdout",
          "text": [
            "Please input the number of products t-shirt: 4\n",
            "Please input the number of products mug: 5\n",
            "Please input the number of products hat: 3\n",
            "Please input the number of products book: 5\n",
            "Please input the number of products keychain: 5\n",
            "{'t-shirt': 4, 'mug': 5, 'hat': 3, 'book': 5, 'keychain': 5}\n"
          ]
        }
      ]
    },
    {
      "cell_type": "code",
      "source": [
        "5242# Step 1: Define the function for initializing the inventory with error handling\n",
        "def initialize_inventory(products):\n",
        "    inventory = {}\n",
        "    for product in products:\n",
        "        valid_quantity = False #Verify the quantity\n",
        "        while not valid_quantity:\n",
        "            try:\n",
        "                quantity = int(input(f\"Enter the quantity of {product}s available: \")) #\n",
        "                if quantity < 0:\n",
        "                    raise ValueError(\"Invalid quantity! Please enter a non-negative value.\")\n",
        "                valid_quantity = True\n",
        "            except ValueError as error:\n",
        "                print(f\"Error: {error}\")\n",
        "        inventory[product] = quantity\n",
        "    return inventory\n",
        "\n",
        "print(initialize_inventory(products))\n"
      ],
      "metadata": {
        "colab": {
          "base_uri": "https://localhost:8080/"
        },
        "id": "Bzv3n5Kysbpt",
        "outputId": "00797351-76e1-4547-ca01-0523f2d17b9f"
      },
      "id": "Bzv3n5Kysbpt",
      "execution_count": 28,
      "outputs": [
        {
          "output_type": "stream",
          "name": "stdout",
          "text": [
            "Enter the quantity of t-shirts available: elson\n",
            "Error: invalid literal for int() with base 10: 'elson'\n",
            "Enter the quantity of t-shirts available: -3\n",
            "Error: Invalid quantity! Please enter a non-negative value.\n",
            "Enter the quantity of t-shirts available: 3\n",
            "Enter the quantity of mugs available: 4\n",
            "Enter the quantity of hats available: 5\n",
            "Enter the quantity of books available: done\n",
            "Error: invalid literal for int() with base 10: 'done'\n",
            "Enter the quantity of books available: 4\n",
            "Enter the quantity of keychains available: 4\n",
            "{'t-shirt': 3, 'mug': 4, 'hat': 5, 'book': 4, 'keychain': 4}\n"
          ]
        }
      ]
    },
    {
      "cell_type": "code",
      "source": [
        "## Fred, i am sending it now just because of the timeline, but i will need more time to understand and continue the exercice."
      ],
      "metadata": {
        "id": "3uXH3u4R_NlP"
      },
      "id": "3uXH3u4R_NlP",
      "execution_count": null,
      "outputs": []
    }
  ],
  "metadata": {
    "kernelspec": {
      "display_name": "Python 3 (ipykernel)",
      "language": "python",
      "name": "python3"
    },
    "language_info": {
      "codemirror_mode": {
        "name": "ipython",
        "version": 3
      },
      "file_extension": ".py",
      "mimetype": "text/x-python",
      "name": "python",
      "nbconvert_exporter": "python",
      "pygments_lexer": "ipython3",
      "version": "3.9.13"
    },
    "colab": {
      "provenance": []
    }
  },
  "nbformat": 4,
  "nbformat_minor": 5
}